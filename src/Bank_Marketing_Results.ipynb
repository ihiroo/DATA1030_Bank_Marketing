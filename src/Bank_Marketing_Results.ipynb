{
 "cells": [
  {
   "cell_type": "code",
   "execution_count": 43,
   "id": "c1847a34-582a-4662-bf4b-9e906e96de39",
   "metadata": {},
   "outputs": [],
   "source": [
    "import pandas as pd\n",
    "import numpy as np\n",
    "from sklearn.compose import ColumnTransformer \n",
    "from sklearn.preprocessing import OneHotEncoder, OrdinalEncoder, StandardScaler\n",
    "from sklearn.impute import SimpleImputer\n",
    "from sklearn.experimental import enable_iterative_imputer \n",
    "from sklearn.model_selection import StratifiedKFold, train_test_split, GridSearchCV, ParameterGrid\n",
    "from sklearn.metrics import confusion_matrix, classification_report, recall_score\n",
    "from sklearn.pipeline import Pipeline, make_pipeline\n",
    "from sklearn.metrics import confusion_matrix\n",
    "from sklearn.metrics import ConfusionMatrixDisplay\n",
    "import matplotlib.pyplot as plt\n",
    "import seaborn as sns\n",
    "from sklearn.metrics import fbeta_score, make_scorer"
   ]
  },
  {
   "cell_type": "code",
   "execution_count": 44,
   "id": "569bceca-7851-4a1c-9791-39b0e2995f56",
   "metadata": {},
   "outputs": [
    {
     "data": {
      "text/plain": [
       "(41188, 18)"
      ]
     },
     "execution_count": 44,
     "metadata": {},
     "output_type": "execute_result"
    }
   ],
   "source": [
    "df = pd.read_csv('bank-additional-full.csv', sep = ';', na_values = ['unknown', 999])\n",
    "df = df.drop(columns = ['duration']) # drop future information\n",
    "df['ncalls'] = df['campaign'] - 1\n",
    "df = df.drop(columns = ['campaign', 'emp.var.rate', 'euribor3m'])\n",
    "df.shape"
   ]
  },
  {
   "cell_type": "code",
   "execution_count": 45,
   "id": "513545d3-7e8b-45c0-9c56-bc062f5d4c97",
   "metadata": {},
   "outputs": [],
   "source": [
    "# deal with pdays\n",
    "def categorize_pdays(days):\n",
    "    if np.isnan(days):\n",
    "        return 'never contacted'\n",
    "    elif days == 0:\n",
    "        return 'contacted immediately'\n",
    "    elif days <= 7:\n",
    "        return 'contacted within a week'\n",
    "    elif days <= 14:\n",
    "        return 'contacted between 8 to 14 days'\n",
    "    elif days <= 21:\n",
    "        return 'contacted between 15 to 21 days'\n",
    "    elif days <= 28:\n",
    "        return 'contacted between 22 to 28 days'\n",
    "    else:\n",
    "        return 'contacted after 28 days'\n",
    "\n",
    "df['pdays'] = df['pdays'].apply(categorize_pdays)"
   ]
  },
  {
   "cell_type": "code",
   "execution_count": 46,
   "id": "32053228-6be1-48db-9c59-3514ec2a41eb",
   "metadata": {},
   "outputs": [
    {
     "name": "stdout",
     "output_type": "stream",
     "text": [
      "(41188, 17)\n",
      "(41188,)\n"
     ]
    }
   ],
   "source": [
    "X = df.drop(columns = 'y')\n",
    "y = df['y']\n",
    "y = y.replace({'yes': 1, 'no': 0})\n",
    "print(X.shape)\n",
    "print(y.shape)"
   ]
  },
  {
   "cell_type": "code",
   "execution_count": 47,
   "id": "1a145cb4-5bcb-4e70-9dc9-eee48be1d856",
   "metadata": {},
   "outputs": [],
   "source": [
    "cat_ftrs = ['job', 'marital', 'default', 'housing', 'loan', 'contact', 'poutcome']\n",
    "\n",
    "ordinal_ftrs = ['education', 'month', 'day_of_week', 'pdays']\n",
    "ordinal_cats = [['NA', 'illiterate', 'basic.4y', 'basic.6y', 'basic.9y', 'high.school', \n",
    "                 'professional.course', 'university.degree'],\n",
    "                ['mar', 'apr', 'may', 'jun', 'jul', 'aug', 'sep', 'oct', 'nov', 'dec'],\n",
    "                ['mon', 'tue', 'wed', 'thu', 'fri'], \n",
    "                ['contacted immediately', 'contacted within a week', 'contacted between 8 to 14 days',\n",
    "                 'contacted between 15 to 21 days', 'contacted between 22 to 28 days', 'never contacted']]\n",
    "\n",
    "num_ftrs = ['age', 'previous', 'ncalls', 'cons.price.idx', 'cons.conf.idx', 'nr.employed']"
   ]
  },
  {
   "cell_type": "code",
   "execution_count": 48,
   "id": "8a42dd68-3012-4e1e-b9c5-039736d37653",
   "metadata": {},
   "outputs": [],
   "source": [
    "# one-hot encoder\n",
    "categorical_transformer = Pipeline(steps = [\n",
    "    ('imputer', SimpleImputer(strategy = 'constant', fill_value = 'missing')), \n",
    "    ('onehot', OneHotEncoder(sparse_output = False, handle_unknown = 'ignore')),\n",
    "    ('scaler', StandardScaler())])\n",
    "\n",
    "# ordinal encoder\n",
    "ordinal_transformer = Pipeline(steps = [\n",
    "    ('imputer2', SimpleImputer(strategy = 'constant', fill_value = 'NA')),\n",
    "    ('ordinal', OrdinalEncoder(categories = ordinal_cats)),\n",
    "    ('scaler', StandardScaler())])\n",
    "\n",
    "# standard scaler\n",
    "numeric_transformer = Pipeline(steps = [\n",
    "    ('scaler', StandardScaler())])\n",
    "\n",
    "# collect the transformers\n",
    "preprocessor = ColumnTransformer(\n",
    "    transformers = [\n",
    "        ('num', numeric_transformer, num_ftrs),\n",
    "        ('cat', categorical_transformer, cat_ftrs),\n",
    "        ('ord', ordinal_transformer, ordinal_ftrs)])"
   ]
  },
  {
   "cell_type": "code",
   "execution_count": 49,
   "id": "bec0dea6-1fe8-4c8e-a2fe-52ee9083529f",
   "metadata": {},
   "outputs": [],
   "source": [
    "def MLpipe_KFold_fbeta(X, y, random_states, preprocessor, ML_algo, param_grid, n_splits = 3):\n",
    "    test_scores = []\n",
    "    best_models = []\n",
    "    fbeta_scorer = make_scorer(fbeta_score, beta = 1)\n",
    "    for i, random_state in enumerate(random_states):\n",
    "        X_other, X_test, y_other, y_test = train_test_split(X, y, random_state = 42 * random_state, test_size = 0.2, \n",
    "                                                            stratify = y)\n",
    "        # imbalanced data set\n",
    "        kf = StratifiedKFold(n_splits = n_splits, shuffle = True, random_state = 42 * random_state)\n",
    "        if 'random_state' in ML_algo.get_params().keys():\n",
    "            ML_algo.set_params(random_state = 42 * random_state)\n",
    "        else:\n",
    "            ML_algo = ML_algo\n",
    "\n",
    "        pipe = make_pipeline(preprocessor, ML_algo)\n",
    "        grid = GridSearchCV(pipe, param_grid = param_grid,\n",
    "                            scoring = fbeta_scorer, cv = kf,\n",
    "                            return_train_score = True, n_jobs = -1, verbose = True)\n",
    "        grid.fit(X_other, y_other)\n",
    "        results = pd.DataFrame(grid.cv_results_)\n",
    "        #print('Best model parameter(s):', grid.best_params_)\n",
    "        #print('Validation score:', grid.best_score_)\n",
    "        best_models.append(grid) # save the model\n",
    "        #y_test_pred_prob = best_models[-1].predict_proba(X_test)[:, 1]\n",
    "        y_test_pred = best_models[-1].predict(X_test)\n",
    "\n",
    "        # confusion matrix\n",
    "        #cm = confusion_matrix(y_test, y_test_pred)\n",
    "        #disp = ConfusionMatrixDisplay(cm, display_labels = ['Class 0', 'Class 1'])\n",
    "        #fig, ax = plt.subplots(figsize = (5, 3))\n",
    "        #disp.plot(ax = ax)\n",
    "        #plt.tight_layout()\n",
    "        #plt.show()\n",
    "        \n",
    "        test_fbeta = fbeta_score(y_test, y_test_pred, beta = 1)\n",
    "        test_scores.append(test_fbeta)\n",
    "        #print('Test average precision:', test_scores[i])\n",
    "    return test_scores, best_models"
   ]
  },
  {
   "cell_type": "code",
   "execution_count": 50,
   "id": "440ba94f-7645-437a-8be8-17c385eb8651",
   "metadata": {},
   "outputs": [
    {
     "name": "stdout",
     "output_type": "stream",
     "text": [
      "Fitting 3 folds for each of 100 candidates, totalling 300 fits\n",
      "Fitting 3 folds for each of 100 candidates, totalling 300 fits\n",
      "Fitting 3 folds for each of 100 candidates, totalling 300 fits\n",
      "Mean: 0.5046434070387497\n",
      "Standard deviation: 0.004389040252001994\n"
     ]
    }
   ],
   "source": [
    "from sklearn.ensemble import RandomForestClassifier\n",
    "\n",
    "random_states = [42, 0, 456]\n",
    "ML_algo = RandomForestClassifier()\n",
    "param_grid = {\n",
    "    'randomforestclassifier__max_depth': [1, 3, 10, 30, 100],\n",
    "    'randomforestclassifier__max_features': [0.15, 0.5, 0.75, 1],\n",
    "    'randomforestclassifier__class_weight': [None, 'balanced', 'balanced_subsample', \n",
    "                                             {0: 1, 1: 5}, {0: 1, 1: 10}]\n",
    "}\n",
    "\n",
    "test_scores_rf, best_models_rf = MLpipe_KFold_fbeta(X, y, random_states, preprocessor, ML_algo, param_grid, n_splits = 3)\n",
    "\n",
    "print('Mean:', np.mean(test_scores_rf))\n",
    "print('Standard deviation:', np.std(test_scores_rf))"
   ]
  },
  {
   "cell_type": "code",
   "execution_count": 51,
   "id": "51e87a08-880d-4d65-900d-1cd74f63e3ae",
   "metadata": {},
   "outputs": [],
   "source": [
    "# random_state = 42\n",
    "model = best_models_rf[0].best_estimator_\n",
    "df_X = pd.DataFrame(data = preprocessor.fit_transform(X), columns = preprocessor.get_feature_names_out())"
   ]
  },
  {
   "cell_type": "code",
   "execution_count": 52,
   "id": "e25f9bd4-efb4-45c4-bd03-4f2b5ad2e32c",
   "metadata": {},
   "outputs": [
    {
     "data": {
      "image/png": "[encoded data removed]",
      "text/plain": [
       "<Figure size 500x300 with 2 Axes>"
      ]
     },
     "metadata": {},
     "output_type": "display_data"
    }
   ],
   "source": [
    "# confusion matrix\n",
    "cm = confusion_matrix(y, model.predict(X))\n",
    "disp = ConfusionMatrixDisplay(cm, display_labels = ['Class 0', 'Class 1'])\n",
    "fig, ax = plt.subplots(figsize = (5, 3))\n",
    "disp.plot(ax = ax)\n",
    "plt.tight_layout()\n",
    "plt.title('Confusion Matrix')\n",
    "plt.savefig('/Users/ihiro/Desktop/confusion_matrix.png', dpi = 300, bbox_inches = 'tight')\n",
    "plt.show()"
   ]
  },
  {
   "cell_type": "code",
   "execution_count": 53,
   "id": "200d9a07-c0f4-450d-8ca2-3a8524ed9476",
   "metadata": {},
   "outputs": [
    {
     "data": {
      "text/html": [
       "<div>\n",
       "<style scoped>\n",
       "    .dataframe tbody tr th:only-of-type {\n",
       "        vertical-align: middle;\n",
       "    }\n",
       "\n",
       "    .dataframe tbody tr th {\n",
       "        vertical-align: top;\n",
       "    }\n",
       "\n",
       "    .dataframe thead th {\n",
       "        text-align: right;\n",
       "    }\n",
       "</style>\n",
       "<table border=\"1\" class=\"dataframe\">\n",
       "  <thead>\n",
       "    <tr style=\"text-align: right;\">\n",
       "      <th></th>\n",
       "      <th>Predicted Label</th>\n",
       "      <th>True Label</th>\n",
       "    </tr>\n",
       "  </thead>\n",
       "  <tbody>\n",
       "    <tr>\n",
       "      <th>0</th>\n",
       "      <td>0</td>\n",
       "      <td>0</td>\n",
       "    </tr>\n",
       "    <tr>\n",
       "      <th>1</th>\n",
       "      <td>0</td>\n",
       "      <td>0</td>\n",
       "    </tr>\n",
       "    <tr>\n",
       "      <th>2</th>\n",
       "      <td>0</td>\n",
       "      <td>0</td>\n",
       "    </tr>\n",
       "    <tr>\n",
       "      <th>3</th>\n",
       "      <td>0</td>\n",
       "      <td>0</td>\n",
       "    </tr>\n",
       "    <tr>\n",
       "      <th>4</th>\n",
       "      <td>0</td>\n",
       "      <td>0</td>\n",
       "    </tr>\n",
       "  </tbody>\n",
       "</table>\n",
       "</div>"
      ],
      "text/plain": [
       "   Predicted Label  True Label\n",
       "0                0           0\n",
       "1                0           0\n",
       "2                0           0\n",
       "3                0           0\n",
       "4                0           0"
      ]
     },
     "execution_count": 53,
     "metadata": {},
     "output_type": "execute_result"
    }
   ],
   "source": [
    "y_pred = model.predict(X)\n",
    "result_df = pd.DataFrame({\n",
    "    'Predicted Label': y_pred,\n",
    "    'True Label': y\n",
    "})\n",
    "result_df.head()"
   ]
  },
  {
   "cell_type": "code",
   "execution_count": 54,
   "id": "f98fbbdb-4202-49b7-8be8-67be1d0703f3",
   "metadata": {},
   "outputs": [],
   "source": [
    "# save predictions\n",
    "result_df.to_csv('/Users/ihiro/Desktop/bank_makreting_predictions.csv', index = False) "
   ]
  },
  {
   "cell_type": "code",
   "execution_count": 55,
   "id": "7eb06462-8fda-45d4-abf1-6ffeca371551",
   "metadata": {},
   "outputs": [],
   "source": [
    "# save model\n",
    "import pickle\n",
    "\n",
    "filename  = '/Users/ihiro/Desktop/bank_makreting_model.pkl'\n",
    "with open(filename, 'wb') as file:\n",
    "    pickle.dump(model, file)"
   ]
  },
  {
   "cell_type": "code",
   "execution_count": null,
   "id": "cffe006f-cc3c-4f2b-8c6a-856f6765afdc",
   "metadata": {},
   "outputs": [],
   "source": []
  }
 ],
 "metadata": {
  "kernelspec": {
   "display_name": "Python 3 (ipykernel)",
   "language": "python",
   "name": "python3"
  },
  "language_info": {
   "codemirror_mode": {
    "name": "ipython",
    "version": 3
   },
   "file_extension": ".py",
   "mimetype": "text/x-python",
   "name": "python",
   "nbconvert_exporter": "python",
   "pygments_lexer": "ipython3",
   "version": "3.11.4"
  }
 },
 "nbformat": 4,
 "nbformat_minor": 5
}
